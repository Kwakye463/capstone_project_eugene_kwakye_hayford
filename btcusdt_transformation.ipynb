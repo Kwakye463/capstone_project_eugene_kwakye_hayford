{
 "cells": [
  {
   "cell_type": "code",
   "execution_count": 1,
   "metadata": {},
   "outputs": [],
   "source": [
    "import pandas as pd"
   ]
  },
  {
   "cell_type": "code",
   "execution_count": 2,
   "metadata": {},
   "outputs": [],
   "source": [
    "btcusdt_data = pd.read_csv('btcusdt_data.csv')"
   ]
  },
  {
   "cell_type": "markdown",
   "metadata": {},
   "source": [
    "# transform data"
   ]
  },
  {
   "cell_type": "markdown",
   "metadata": {},
   "source": [
    "# remove ignore and unnamed column"
   ]
  },
  {
   "cell_type": "code",
   "execution_count": 7,
   "metadata": {},
   "outputs": [],
   "source": [
    "# columns to remove\n",
    "columns_to_remove = ['ignore', 'Unnamed: 0']\n",
    "\n",
    "# Remove the specified column\n",
    "btcusdt_data.drop(columns= columns_to_remove, inplace=True)"
   ]
  },
  {
   "cell_type": "markdown",
   "metadata": {},
   "source": [
    "# Convert 'open_time' and 'close_time' columns to datetime format"
   ]
  },
  {
   "cell_type": "code",
   "execution_count": 9,
   "metadata": {},
   "outputs": [],
   "source": [
    "# Convert 'open_time' and 'close_time' columns to datetime format\n",
    "btcusdt_data['open_time'] = pd.to_datetime(btcusdt_data['open_time'], unit='ms')\n",
    "btcusdt_data['close_time'] = pd.to_datetime(btcusdt_data['close_time'], unit='ms')"
   ]
  },
  {
   "cell_type": "markdown",
   "metadata": {},
   "source": [
    "# Time Aggregation: Resample data to daily intervals"
   ]
  },
  {
   "cell_type": "code",
   "execution_count": 10,
   "metadata": {},
   "outputs": [],
   "source": [
    "# Time Aggregation: Resample data to daily intervals\n",
    "btcusdt_data['date'] = btcusdt_data['open_time'].dt.date  # Extract date from 'open_time'\n",
    "btcusdt_data_resampled = btcusdt_data.groupby('date').agg({\n",
    "    'open': 'first',\n",
    "    'high': 'max',\n",
    "    'low': 'min',\n",
    "    'close': 'last',\n",
    "    'volume': 'sum',\n",
    "    'quote_volumn': 'sum',\n",
    "    'number_of_trades': 'sum',\n",
    "    'taker_buy_volume': 'sum',\n",
    "    'taker_buy_quote_volume': 'sum'\n",
    "}).reset_index()"
   ]
  },
  {
   "cell_type": "code",
   "execution_count": 11,
   "metadata": {},
   "outputs": [],
   "source": [
    "btcusdt_data_resampled.to_csv('btcusdt_data_resampled.csv')"
   ]
  },
  {
   "cell_type": "markdown",
   "metadata": {},
   "source": [
    "# Feature engineering: Calculate price differences and percentage changes"
   ]
  },
  {
   "cell_type": "code",
   "execution_count": 12,
   "metadata": {},
   "outputs": [],
   "source": [
    "# Convert 'open' and 'close' columns to numeric type\n",
    "btcusdt_data_resampled['open'] = pd.to_numeric(btcusdt_data_resampled['open'], errors='coerce')\n",
    "btcusdt_data_resampled['close'] = pd.to_numeric(btcusdt_data_resampled['close'], errors='coerce')"
   ]
  },
  {
   "cell_type": "code",
   "execution_count": 14,
   "metadata": {},
   "outputs": [],
   "source": [
    "# Feature engineering: Calculate price differences and percentage changes\n",
    "btcusdt_data_resampled['price_diff'] = btcusdt_data_resampled['close'] - btcusdt_data_resampled['open']\n",
    "btcusdt_data_resampled['price_change_percentage'] = ((btcusdt_data_resampled['close'] - btcusdt_data_resampled['open']) / btcusdt_data_resampled['open']) * 100\n"
   ]
  },
  {
   "cell_type": "code",
   "execution_count": 17,
   "metadata": {},
   "outputs": [
    {
     "data": {
      "text/html": [
       "<div>\n",
       "<style scoped>\n",
       "    .dataframe tbody tr th:only-of-type {\n",
       "        vertical-align: middle;\n",
       "    }\n",
       "\n",
       "    .dataframe tbody tr th {\n",
       "        vertical-align: top;\n",
       "    }\n",
       "\n",
       "    .dataframe thead th {\n",
       "        text-align: right;\n",
       "    }\n",
       "</style>\n",
       "<table border=\"1\" class=\"dataframe\">\n",
       "  <thead>\n",
       "    <tr style=\"text-align: right;\">\n",
       "      <th></th>\n",
       "      <th>date</th>\n",
       "      <th>open</th>\n",
       "      <th>high</th>\n",
       "      <th>low</th>\n",
       "      <th>close</th>\n",
       "      <th>volume</th>\n",
       "      <th>quote_volumn</th>\n",
       "      <th>number_of_trades</th>\n",
       "      <th>taker_buy_volume</th>\n",
       "      <th>taker_buy_quote_volume</th>\n",
       "      <th>price_diff</th>\n",
       "      <th>price_change_percentage</th>\n",
       "    </tr>\n",
       "  </thead>\n",
       "  <tbody>\n",
       "    <tr>\n",
       "      <th>0</th>\n",
       "      <td>2024-05-29</td>\n",
       "      <td>67555.18</td>\n",
       "      <td>67826.09</td>\n",
       "      <td>67151.35</td>\n",
       "      <td>67652.42</td>\n",
       "      <td>4160.14605</td>\n",
       "      <td>2.808183e+08</td>\n",
       "      <td>249113</td>\n",
       "      <td>2033.95134</td>\n",
       "      <td>1.372885e+08</td>\n",
       "      <td>97.24</td>\n",
       "      <td>0.143942</td>\n",
       "    </tr>\n",
       "    <tr>\n",
       "      <th>1</th>\n",
       "      <td>2024-05-30</td>\n",
       "      <td>67652.41</td>\n",
       "      <td>69500.00</td>\n",
       "      <td>67128.00</td>\n",
       "      <td>68352.17</td>\n",
       "      <td>28478.21840</td>\n",
       "      <td>1.945001e+09</td>\n",
       "      <td>1272851</td>\n",
       "      <td>14074.36655</td>\n",
       "      <td>9.615952e+08</td>\n",
       "      <td>699.76</td>\n",
       "      <td>1.034346</td>\n",
       "    </tr>\n",
       "    <tr>\n",
       "      <th>2</th>\n",
       "      <td>2024-05-31</td>\n",
       "      <td>68352.17</td>\n",
       "      <td>69044.10</td>\n",
       "      <td>66670.00</td>\n",
       "      <td>67540.01</td>\n",
       "      <td>26690.32184</td>\n",
       "      <td>1.812659e+09</td>\n",
       "      <td>1177860</td>\n",
       "      <td>13258.10182</td>\n",
       "      <td>9.004142e+08</td>\n",
       "      <td>-812.16</td>\n",
       "      <td>-1.188199</td>\n",
       "    </tr>\n",
       "    <tr>\n",
       "      <th>3</th>\n",
       "      <td>2024-06-01</td>\n",
       "      <td>67540.01</td>\n",
       "      <td>67900.00</td>\n",
       "      <td>67428.44</td>\n",
       "      <td>67766.85</td>\n",
       "      <td>8837.66133</td>\n",
       "      <td>5.983052e+08</td>\n",
       "      <td>638484</td>\n",
       "      <td>4235.27045</td>\n",
       "      <td>2.867521e+08</td>\n",
       "      <td>226.84</td>\n",
       "      <td>0.335860</td>\n",
       "    </tr>\n",
       "    <tr>\n",
       "      <th>4</th>\n",
       "      <td>2024-06-02</td>\n",
       "      <td>67766.84</td>\n",
       "      <td>68460.00</td>\n",
       "      <td>67257.47</td>\n",
       "      <td>67775.98</td>\n",
       "      <td>14515.84619</td>\n",
       "      <td>9.850338e+08</td>\n",
       "      <td>752674</td>\n",
       "      <td>7319.55636</td>\n",
       "      <td>4.968595e+08</td>\n",
       "      <td>9.14</td>\n",
       "      <td>0.013487</td>\n",
       "    </tr>\n",
       "  </tbody>\n",
       "</table>\n",
       "</div>"
      ],
      "text/plain": [
       "         date      open      high       low     close       volume  \\\n",
       "0  2024-05-29  67555.18  67826.09  67151.35  67652.42   4160.14605   \n",
       "1  2024-05-30  67652.41  69500.00  67128.00  68352.17  28478.21840   \n",
       "2  2024-05-31  68352.17  69044.10  66670.00  67540.01  26690.32184   \n",
       "3  2024-06-01  67540.01  67900.00  67428.44  67766.85   8837.66133   \n",
       "4  2024-06-02  67766.84  68460.00  67257.47  67775.98  14515.84619   \n",
       "\n",
       "   quote_volumn  number_of_trades  taker_buy_volume  taker_buy_quote_volume  \\\n",
       "0  2.808183e+08            249113        2033.95134            1.372885e+08   \n",
       "1  1.945001e+09           1272851       14074.36655            9.615952e+08   \n",
       "2  1.812659e+09           1177860       13258.10182            9.004142e+08   \n",
       "3  5.983052e+08            638484        4235.27045            2.867521e+08   \n",
       "4  9.850338e+08            752674        7319.55636            4.968595e+08   \n",
       "\n",
       "   price_diff  price_change_percentage  \n",
       "0       97.24                 0.143942  \n",
       "1      699.76                 1.034346  \n",
       "2     -812.16                -1.188199  \n",
       "3      226.84                 0.335860  \n",
       "4        9.14                 0.013487  "
      ]
     },
     "execution_count": 17,
     "metadata": {},
     "output_type": "execute_result"
    }
   ],
   "source": [
    "btcusdt_data_resampled"
   ]
  },
  {
   "cell_type": "code",
   "execution_count": 18,
   "metadata": {},
   "outputs": [],
   "source": [
    "btcusdt_data_resampled.to_csv('btcusdt_data_resampled.csv', index=False)"
   ]
  }
 ],
 "metadata": {
  "kernelspec": {
   "display_name": "Python 3",
   "language": "python",
   "name": "python3"
  },
  "language_info": {
   "codemirror_mode": {
    "name": "ipython",
    "version": 3
   },
   "file_extension": ".py",
   "mimetype": "text/x-python",
   "name": "python",
   "nbconvert_exporter": "python",
   "pygments_lexer": "ipython3",
   "version": "3.9.4"
  }
 },
 "nbformat": 4,
 "nbformat_minor": 2
}
