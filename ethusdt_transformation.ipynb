{
 "cells": [
  {
   "cell_type": "code",
   "execution_count": 7,
   "metadata": {},
   "outputs": [],
   "source": [
    "import pandas as pd"
   ]
  },
  {
   "cell_type": "code",
   "execution_count": 13,
   "metadata": {},
   "outputs": [],
   "source": [
    "ethusdt_data = pd.read_csv('ethusdt_data.csv')"
   ]
  },
  {
   "cell_type": "markdown",
   "metadata": {},
   "source": [
    "# transform data"
   ]
  },
  {
   "cell_type": "markdown",
   "metadata": {},
   "source": [
    "# remove ignore column"
   ]
  },
  {
   "cell_type": "code",
   "execution_count": 15,
   "metadata": {},
   "outputs": [],
   "source": [
    "# columns to remove\n",
    "column_to_remove = 'ignore'\n",
    "\n",
    "# Remove the specified column\n",
    "ethusdt_data.drop(columns= column_to_remove, inplace=True)"
   ]
  },
  {
   "cell_type": "markdown",
   "metadata": {},
   "source": [
    "# Convert 'open_time' and 'close_time' columns to datetime format"
   ]
  },
  {
   "cell_type": "code",
   "execution_count": 16,
   "metadata": {},
   "outputs": [],
   "source": [
    "# Convert 'open_time' and 'close_time' columns to datetime format\n",
    "ethusdt_data['open_time'] = pd.to_datetime(ethusdt_data['open_time'], unit='ms')\n",
    "ethusdt_data['close_time'] = pd.to_datetime(ethusdt_data['close_time'], unit='ms')"
   ]
  },
  {
   "cell_type": "markdown",
   "metadata": {},
   "source": [
    "# Time Aggregation: Resample data to daily intervals"
   ]
  },
  {
   "cell_type": "code",
   "execution_count": 17,
   "metadata": {},
   "outputs": [],
   "source": [
    "# Time Aggregation: Resample data to daily intervals\n",
    "ethusdt_data['date'] = ethusdt_data['open_time'].dt.date  # Extract date from 'open_time'\n",
    "ethusdt_data_resampled = ethusdt_data.groupby('date').agg({\n",
    "    'open': 'first',\n",
    "    'high': 'max',\n",
    "    'low': 'min',\n",
    "    'close': 'last',\n",
    "    'volume': 'sum',\n",
    "    'quote_volumn': 'sum',\n",
    "    'number_of_trades': 'sum',\n",
    "    'taker_buy_volume': 'sum',\n",
    "    'taker_buy_quote_volume': 'sum'\n",
    "}).reset_index()"
   ]
  },
  {
   "cell_type": "code",
   "execution_count": 18,
   "metadata": {},
   "outputs": [],
   "source": [
    "ethusdt_data_resampled.to_csv('ethusdt_data_resampled.csv')"
   ]
  },
  {
   "cell_type": "markdown",
   "metadata": {},
   "source": [
    "# Feature engineering: Calculate price differences and percentage changes"
   ]
  },
  {
   "cell_type": "code",
   "execution_count": 19,
   "metadata": {},
   "outputs": [],
   "source": [
    "# Convert 'open' and 'close' columns to numeric type\n",
    "ethusdt_data_resampled['open'] = pd.to_numeric(ethusdt_data_resampled['open'], errors='coerce')\n",
    "ethusdt_data_resampled['close'] = pd.to_numeric(ethusdt_data_resampled['close'], errors='coerce')"
   ]
  },
  {
   "cell_type": "code",
   "execution_count": 20,
   "metadata": {},
   "outputs": [],
   "source": [
    "# Feature engineering: Calculate price differences and percentage changes\n",
    "ethusdt_data_resampled['price_diff'] = ethusdt_data_resampled['close'] - ethusdt_data_resampled['open']\n",
    "ethusdt_data_resampled['price_change_percentage'] = ((ethusdt_data_resampled['close'] - ethusdt_data_resampled['open']) / ethusdt_data_resampled['open']) * 100\n"
   ]
  },
  {
   "cell_type": "code",
   "execution_count": 22,
   "metadata": {},
   "outputs": [
    {
     "data": {
      "text/html": [
       "<div>\n",
       "<style scoped>\n",
       "    .dataframe tbody tr th:only-of-type {\n",
       "        vertical-align: middle;\n",
       "    }\n",
       "\n",
       "    .dataframe tbody tr th {\n",
       "        vertical-align: top;\n",
       "    }\n",
       "\n",
       "    .dataframe thead th {\n",
       "        text-align: right;\n",
       "    }\n",
       "</style>\n",
       "<table border=\"1\" class=\"dataframe\">\n",
       "  <thead>\n",
       "    <tr style=\"text-align: right;\">\n",
       "      <th></th>\n",
       "      <th>date</th>\n",
       "      <th>open</th>\n",
       "      <th>high</th>\n",
       "      <th>low</th>\n",
       "      <th>close</th>\n",
       "      <th>volume</th>\n",
       "      <th>quote_volumn</th>\n",
       "      <th>number_of_trades</th>\n",
       "      <th>taker_buy_volume</th>\n",
       "      <th>taker_buy_quote_volume</th>\n",
       "      <th>price_diff</th>\n",
       "      <th>price_change_percentage</th>\n",
       "    </tr>\n",
       "  </thead>\n",
       "  <tbody>\n",
       "    <tr>\n",
       "      <th>0</th>\n",
       "      <td>2024-05-29</td>\n",
       "      <td>3764.26</td>\n",
       "      <td>3792.99</td>\n",
       "      <td>3742.59</td>\n",
       "      <td>3767.43</td>\n",
       "      <td>63980.2511</td>\n",
       "      <td>2.409220e+08</td>\n",
       "      <td>206627</td>\n",
       "      <td>34830.9766</td>\n",
       "      <td>1.311730e+08</td>\n",
       "      <td>3.17</td>\n",
       "      <td>0.084213</td>\n",
       "    </tr>\n",
       "    <tr>\n",
       "      <th>1</th>\n",
       "      <td>2024-05-30</td>\n",
       "      <td>3767.44</td>\n",
       "      <td>3825.35</td>\n",
       "      <td>3702.58</td>\n",
       "      <td>3747.91</td>\n",
       "      <td>277034.2894</td>\n",
       "      <td>1.042146e+09</td>\n",
       "      <td>765716</td>\n",
       "      <td>135950.1498</td>\n",
       "      <td>5.115167e+08</td>\n",
       "      <td>-19.53</td>\n",
       "      <td>-0.518389</td>\n",
       "    </tr>\n",
       "    <tr>\n",
       "      <th>2</th>\n",
       "      <td>2024-05-31</td>\n",
       "      <td>3747.90</td>\n",
       "      <td>3849.94</td>\n",
       "      <td>3723.75</td>\n",
       "      <td>3762.29</td>\n",
       "      <td>273406.7660</td>\n",
       "      <td>1.032174e+09</td>\n",
       "      <td>680329</td>\n",
       "      <td>136551.9833</td>\n",
       "      <td>5.155771e+08</td>\n",
       "      <td>14.39</td>\n",
       "      <td>0.383948</td>\n",
       "    </tr>\n",
       "    <tr>\n",
       "      <th>3</th>\n",
       "      <td>2024-06-01</td>\n",
       "      <td>3762.29</td>\n",
       "      <td>3833.30</td>\n",
       "      <td>3752.67</td>\n",
       "      <td>3815.82</td>\n",
       "      <td>132687.2006</td>\n",
       "      <td>5.035006e+08</td>\n",
       "      <td>399377</td>\n",
       "      <td>70367.6098</td>\n",
       "      <td>2.670686e+08</td>\n",
       "      <td>53.53</td>\n",
       "      <td>1.422804</td>\n",
       "    </tr>\n",
       "    <tr>\n",
       "      <th>4</th>\n",
       "      <td>2024-06-02</td>\n",
       "      <td>3815.82</td>\n",
       "      <td>3838.59</td>\n",
       "      <td>3752.62</td>\n",
       "      <td>3780.71</td>\n",
       "      <td>193941.5897</td>\n",
       "      <td>7.361858e+08</td>\n",
       "      <td>532249</td>\n",
       "      <td>97699.0099</td>\n",
       "      <td>3.708502e+08</td>\n",
       "      <td>-35.11</td>\n",
       "      <td>-0.920117</td>\n",
       "    </tr>\n",
       "  </tbody>\n",
       "</table>\n",
       "</div>"
      ],
      "text/plain": [
       "         date     open     high      low    close       volume  quote_volumn  \\\n",
       "0  2024-05-29  3764.26  3792.99  3742.59  3767.43   63980.2511  2.409220e+08   \n",
       "1  2024-05-30  3767.44  3825.35  3702.58  3747.91  277034.2894  1.042146e+09   \n",
       "2  2024-05-31  3747.90  3849.94  3723.75  3762.29  273406.7660  1.032174e+09   \n",
       "3  2024-06-01  3762.29  3833.30  3752.67  3815.82  132687.2006  5.035006e+08   \n",
       "4  2024-06-02  3815.82  3838.59  3752.62  3780.71  193941.5897  7.361858e+08   \n",
       "\n",
       "   number_of_trades  taker_buy_volume  taker_buy_quote_volume  price_diff  \\\n",
       "0            206627        34830.9766            1.311730e+08        3.17   \n",
       "1            765716       135950.1498            5.115167e+08      -19.53   \n",
       "2            680329       136551.9833            5.155771e+08       14.39   \n",
       "3            399377        70367.6098            2.670686e+08       53.53   \n",
       "4            532249        97699.0099            3.708502e+08      -35.11   \n",
       "\n",
       "   price_change_percentage  \n",
       "0                 0.084213  \n",
       "1                -0.518389  \n",
       "2                 0.383948  \n",
       "3                 1.422804  \n",
       "4                -0.920117  "
      ]
     },
     "execution_count": 22,
     "metadata": {},
     "output_type": "execute_result"
    }
   ],
   "source": [
    "ethusdt_data_resampled"
   ]
  },
  {
   "cell_type": "code",
   "execution_count": 23,
   "metadata": {},
   "outputs": [],
   "source": [
    "ethusdt_data_resampled.to_csv('ethusdt_data_resampled.csv', index=False)"
   ]
  }
 ],
 "metadata": {
  "kernelspec": {
   "display_name": "Python 3",
   "language": "python",
   "name": "python3"
  },
  "language_info": {
   "codemirror_mode": {
    "name": "ipython",
    "version": 3
   },
   "file_extension": ".py",
   "mimetype": "text/x-python",
   "name": "python",
   "nbconvert_exporter": "python",
   "pygments_lexer": "ipython3",
   "version": "3.9.4"
  }
 },
 "nbformat": 4,
 "nbformat_minor": 2
}
