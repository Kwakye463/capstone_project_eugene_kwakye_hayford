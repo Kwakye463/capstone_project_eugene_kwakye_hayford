{
 "cells": [
  {
   "cell_type": "code",
   "execution_count": null,
   "metadata": {},
   "outputs": [],
   "source": []
  },
  {
   "cell_type": "code",
   "execution_count": 3,
   "metadata": {},
   "outputs": [],
   "source": [
    "import boto3\n",
    "\n",
    "# Create an S3 client\n",
    "s3 = boto3.resource('s3')\n",
    "\n",
    "# Upload the CSV file to the S3 bucket\n",
    "s3.meta.client.upload_file('/Users/eugenehayford/Documents/capstone project/btcusdt_data_resampled.csv', 'capstone-montybucket', 'btcusdt_data.csv')"
   ]
  },
  {
   "cell_type": "code",
   "execution_count": 4,
   "metadata": {},
   "outputs": [],
   "source": [
    "# Upload the CSV file to the S3 bucket\n",
    "s3.meta.client.upload_file('/Users/eugenehayford/Documents/capstone project/ethusdt_data_resampled.csv', 'capstone-montybucket', 'ethusdt_data.csv')"
   ]
  }
 ],
 "metadata": {
  "kernelspec": {
   "display_name": "Python 3",
   "language": "python",
   "name": "python3"
  },
  "language_info": {
   "codemirror_mode": {
    "name": "ipython",
    "version": 3
   },
   "file_extension": ".py",
   "mimetype": "text/x-python",
   "name": "python",
   "nbconvert_exporter": "python",
   "pygments_lexer": "ipython3",
   "version": "3.9.4"
  }
 },
 "nbformat": 4,
 "nbformat_minor": 2
}
