{
 "cells": [
  {
   "cell_type": "code",
   "execution_count": 55,
   "metadata": {},
   "outputs": [
    {
     "name": "stdout",
     "output_type": "stream",
     "text": [
      "Requirement already satisfied: requests in /Library/Frameworks/Python.framework/Versions/3.9/lib/python3.9/site-packages (2.32.2)\n",
      "Requirement already satisfied: charset-normalizer<4,>=2 in /Library/Frameworks/Python.framework/Versions/3.9/lib/python3.9/site-packages (from requests) (3.3.2)\n",
      "Requirement already satisfied: urllib3<3,>=1.21.1 in /Library/Frameworks/Python.framework/Versions/3.9/lib/python3.9/site-packages (from requests) (1.26.18)\n",
      "Requirement already satisfied: idna<4,>=2.5 in /Library/Frameworks/Python.framework/Versions/3.9/lib/python3.9/site-packages (from requests) (3.7)\n",
      "Requirement already satisfied: certifi>=2017.4.17 in /Library/Frameworks/Python.framework/Versions/3.9/lib/python3.9/site-packages (from requests) (2020.12.5)\n",
      "\u001b[33mWARNING: You are using pip version 20.2.3; however, version 24.0 is available.\n",
      "You should consider upgrading via the '/usr/local/bin/python3 -m pip install --upgrade pip' command.\u001b[0m\n",
      "Note: you may need to restart the kernel to use updated packages.\n"
     ]
    }
   ],
   "source": [
    "pip install requests\n"
   ]
  },
  {
   "cell_type": "code",
   "execution_count": 56,
   "metadata": {},
   "outputs": [],
   "source": [
    "import requests\n",
    "import pandas as pd\n",
    "import json\n"
   ]
  },
  {
   "cell_type": "code",
   "execution_count": 57,
   "metadata": {},
   "outputs": [],
   "source": [
    "def fetch_binance_data(symbol, interval, limit):\n",
    "    \"\"\"\n",
    "    Fetches historical cryptocurrency data from Binance API using the requests library.\n",
    "    \n",
    "    Args:\n",
    "        symbol (str): Cryptocurrency symbol (e.g., 'BTCUSDT', 'ETHUSDT').\n",
    "        interval (str): Time interval for data (e.g., '1d' for 1-day interval).\n",
    "        limit (int): Maximum number of data points to retrieve.\n",
    "\n",
    "    Returns:\n",
    "        DataFrame: Pandas DataFrame containing the historical data.\n",
    "    \"\"\"\n",
    "    url = f\"https://api.binance.com/api/v3/klines?symbol={symbol}&interval={interval}&limit={limit}\"\n",
    "    response = requests.get(url)\n",
    "    if response.status_code == 200:\n",
    "        data = response.json()\n",
    "        df = pd.DataFrame(data, columns=['open_time', 'open', 'high', 'low', 'close', 'volume',\n",
    "                                         'close_time', 'quote_volumn',\n",
    "                                         'number_of_trades', 'taker_buy_volume','taker_buy_quote_volume','ignore'])\n",
    "        #df['open_tiime'] = pd.to_datetime(df['open_time'], unit='ms')\n",
    "        #df.set_index('open_time', inplace=True)\n",
    "        return df\n",
    "    else:\n",
    "        print(f\"Failed to fetch data from Binance API for {symbol}\")\n",
    "        return None\n",
    "\n",
    "# Fetch BTCUSDT and ETHUSDT data from Binance API with 1-day interval and limit of 100 data points\n",
    "btcusdt_data = fetch_binance_data('BTCUSDT', '1h', 100)\n",
    "ethusdt_data = fetch_binance_data('ETHUSDT', '1h', 100)"
   ]
  },
  {
   "cell_type": "code",
   "execution_count": 58,
   "metadata": {},
   "outputs": [
    {
     "data": {
      "text/plain": [
       "Index(['open_time', 'open', 'high', 'low', 'close', 'volume', 'close_time',\n",
       "       'quote_volumn', 'number_of_trades', 'taker_buy_volume',\n",
       "       'taker_buy_quote_volume', 'ignore'],\n",
       "      dtype='object')"
      ]
     },
     "execution_count": 58,
     "metadata": {},
     "output_type": "execute_result"
    }
   ],
   "source": [
    "ethusdt_data.columns"
   ]
  },
  {
   "cell_type": "code",
   "execution_count": 59,
   "metadata": {},
   "outputs": [],
   "source": [
    "btcusdt_data.to_csv('btcusdt_data.csv')\n",
    "ethusdt_data.to_csv('ethusdt_data.csv')"
   ]
  },
  {
   "cell_type": "code",
   "execution_count": 71,
   "metadata": {},
   "outputs": [
    {
     "data": {
      "text/plain": [
       "Index(['open_time', 'open', 'high', 'low', 'close', 'volume', 'close_time',\n",
       "       'quote_volumn', 'number_of_trades', 'taker_buy_volume',\n",
       "       'taker_buy_quote_volume', 'ignore'],\n",
       "      dtype='object')"
      ]
     },
     "execution_count": 71,
     "metadata": {},
     "output_type": "execute_result"
    }
   ],
   "source": [
    "btcusdt_data.columns"
   ]
  },
  {
   "cell_type": "code",
   "execution_count": null,
   "metadata": {},
   "outputs": [],
   "source": []
  }
 ],
 "metadata": {
  "kernelspec": {
   "display_name": "Python 3",
   "language": "python",
   "name": "python3"
  },
  "language_info": {
   "codemirror_mode": {
    "name": "ipython",
    "version": 3
   },
   "file_extension": ".py",
   "mimetype": "text/x-python",
   "name": "python",
   "nbconvert_exporter": "python",
   "pygments_lexer": "ipython3",
   "version": "3.9.4"
  }
 },
 "nbformat": 4,
 "nbformat_minor": 2
}
